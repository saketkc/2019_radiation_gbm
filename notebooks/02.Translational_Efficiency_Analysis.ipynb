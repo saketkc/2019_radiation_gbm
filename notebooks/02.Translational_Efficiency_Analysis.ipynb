{
 "cells": [
  {
   "cell_type": "markdown",
   "metadata": {},
   "source": [
    "# Riborex Analysis T0, T1, T24 all interaction\n"
   ]
  },
  {
   "cell_type": "code",
   "execution_count": 1,
   "metadata": {},
   "outputs": [],
   "source": [
    "suppressMessages(library(riborex))\n",
    "suppressMessages(library(fdrtool))\n",
    "\n",
    "\n",
    "annotations <- read.table(file.path('..', 'data', 'annotations', 'hg38_gene_names_stripped.tsv'), \n",
    "                          header=F, \n",
    "                          col.names = c('gene_id', 'gene_name', 'gene_type'))\n",
    "rownames(annotations) <- annotations$gene_id\n",
    "\n",
    "readcounts.dir <- file.path('..', 'data', 'read_counts', 'byCDS')\n",
    "results.dir <- file.path('..', 'results', 'translation_efficiency')\n",
    "rna.design.file <- file.path('..', 'data', 'design_files', 'rna_seq_design.tsv')\n",
    "ribo.design.file <- file.path('..', 'data', 'design_files', 'ribo_seq_design.tsv')\n",
    "\n",
    "## Suffix of htseq-count output\n",
    "counts.suffix <- '.CDS.counts.tsv'\n",
    "\n",
    "rna.design.info <- read.table(rna.design.file, header=T, stringsAsFactors=FALSE)\n",
    "ribo.design.info <- read.table(ribo.design.file, header=T, stringsAsFactors=FALSE)\n",
    "histone.genes.df <- read.table(file.path('..', 'data', 'annotations', \n",
    "                                         'histone_genes.tsv'), \n",
    "                               header = T, \n",
    "                               stringsAsFactors = F,\n",
    "                               sep = '\\t') \n",
    "\n",
    "\n",
    "histone.genes.1 <- annotations[grep('HIST', annotations$gene_name), ]$gene_id\n",
    "histone.genes.2 <-annotations[annotations$gene_name %in% \n",
    "                                histone.genes.df$Approved.Symbol, ]$gene_id\n",
    "# Add RP1-34B50.21 separately since symbol doesn't have HIST in it.\n",
    "histone.genes <- unique(c(histone.genes.1, histone.genes.2, 'ENSG00000282988'))\n",
    "\n",
    "count.reads <- function(design.info, dirname){\n",
    " files <- paste(design.info$SampleFile, counts.suffix, sep='')\n",
    " sampleName <- design.info$SampleName\n",
    " sampleTable <- data.frame(sampleName=sampleName, fileName=files)\n",
    " ddsHTSeq <- DESeqDataSetFromHTSeqCount(sampleTable = sampleTable, \n",
    "          directory = file.path(readcounts.dir, dirname),\n",
    "          design = ~ 1)\n",
    " rownames(ddsHTSeq) <- gsub('\\\\.[0-9]+', '', rownames(ddsHTSeq))\n",
    " ddsHTSeq <- ddsHTSeq[ rowSums(counts(ddsHTSeq)) > 1, ]\n",
    " dds <- DESeq(ddsHTSeq)\n",
    "\n",
    "     # Remove histones\n",
    " ddsHTSeq <- ddsHTSeq[!(rownames(ddsHTSeq) %in% histone.genes),]\n",
    " ddsHTSeq <- ddsHTSeq[ rowSums(counts(ddsHTSeq)) > 1, ]\n",
    " return(counts(dds))\n",
    "}\n",
    "\n",
    "write_results <- function(df, prefix){\n",
    " df<- as.data.frame(df)\n",
    " df <- df[order(df$padj),]\n",
    " df$gene_name <- annotations[rownames(df),]$gene_name\n",
    " df.sig <- subset(df, padj<0.05)\n",
    " df.sig.up <- subset(df.sig, log2FoldChange>0)\n",
    " df.sig.down <- subset(df.sig, log2FoldChange<0)\n",
    " write.table(df, \n",
    "             file = file.path(results.dir, paste(prefix, 'all', 'tsv', sep='.')),\n",
    "             sep = '\\t')\n",
    " write.table(df.sig, \n",
    "             file = file.path(results.dir, paste(prefix, 'sig', 'tsv', sep='.')),\n",
    "             sep = '\\t')\n",
    " write.table(df.sig.up, \n",
    "             file = file.path(results.dir, paste(prefix, 'sig', 'up', 'tsv', sep='.')),\n",
    "             sep = '\\t')\n",
    " write.table(df.sig.down, \n",
    "             file = file.path(results.dir, paste(prefix, 'sig', 'down', 'tsv', sep='.')),\n",
    "             sep = '\\t'\n",
    "             )\n",
    " return (df.sig)\n",
    "}\n",
    "\n",
    "riborex.for.cellline <- function(rna.read.counts, ribo.read.counts, cell.line, contrast, merge.T1=FALSE){\n",
    " rna.read.counts <- rna.read.counts[, grepl(cell.line, colnames(rna.read.counts))]\n",
    " ribo.read.counts <- ribo.read.counts[, grepl(cell.line, colnames(ribo.read.counts))]\n",
    " rna.conditions.time <- as.factor(as.vector(sapply(colnames(rna.read.counts), function(x) unlist(strsplit(x, '_'))[3])))\n",
    " ribo.conditions.time <- as.factor(as.vector(sapply(colnames(ribo.read.counts), function(x) unlist(strsplit(x, '_'))[4])))\n",
    " rna.conditions.cell <- as.factor(as.vector(sapply(colnames(rna.read.counts), function(x) unlist(strsplit(x, '_'))[1])))\n",
    " ribo.conditions.cell <- as.factor(as.vector(sapply(colnames(ribo.read.counts), function(x) unlist(strsplit(x, '_'))[1])))\n",
    " \n",
    " if (merge.T1){\n",
    "   levels(rna.conditions.time)[levels(rna.conditions.time)=='T0'] <- 'T0T1'\n",
    "   levels(rna.conditions.time)[levels(rna.conditions.time)=='T1'] <- 'T0T1'\n",
    "   levels(ribo.conditions.time)[levels(ribo.conditions.time)=='T0'] <- 'T0T1'\n",
    "   levels(ribo.conditions.time)[levels(ribo.conditions.time)=='T1'] <- 'T0T1'\n",
    " }\n",
    " rna.conditions <- data.frame('time' = rna.conditions.time)\n",
    " ribo.conditions <- data.frame('time' = ribo.conditions.time)\n",
    " common.genes <- intersect(rownames(rna.read.counts), rownames(ribo.read.counts)) \n",
    " rna.read.counts <- rna.read.counts[common.genes,]\n",
    " ribo.read.counts <- ribo.read.counts[common.genes,]\n",
    " colnames(rna.read.counts) <- paste(colnames(rna.read.counts), 'RNA', sep='_')\n",
    " colnames(ribo.read.counts) <- paste(colnames(ribo.read.counts), 'Ribo', sep='_')\n",
    " res <- riborex(rna.read.counts, \n",
    "        ribo.read.counts, \n",
    "        rna.conditions, \n",
    "        ribo.conditions, \n",
    "        contrast = contrast)\n",
    " return (res)\n",
    "}\n",
    "                                                    \n",
    "                                                    \n",
    "doPvalueAdjustment <- function(results){\n",
    "  hist(results$pvalue,  main = 'DESeq2 unadjusted p-values', \n",
    "       xlab = 'Unadjusted p-values')\n",
    "  results <- results[ !is.na(results$padj), ]\n",
    "  results <- results[ !is.na(results$pvalue), ]\n",
    "  results <- results[, -which(names(results) == 'padj')]\n",
    "  resultsFDR <- fdrtool(results$stat, \n",
    "                        statistic= 'normal', \n",
    "                        plot = T)\n",
    "  results[,'padj']  <- p.adjust(resultsFDR$pval,\n",
    "                                method = 'BH')\n",
    "  hist(resultsFDR$pval, \n",
    "       main = 'DESeq2 corrected p-values | Empirical null', \n",
    "       xlab = 'Corrected p-values')\n",
    "  return (results)\n",
    "}"
   ]
  },
  {
   "cell_type": "code",
   "execution_count": 1,
   "metadata": {},
   "outputs": [
    {
     "name": "stderr",
     "output_type": "stream",
     "text": [
      "Warning message in DESeq(ddsHTSeq):\n",
      "“the design is ~ 1 (just an intercept). is this intended?”estimating size factors\n",
      "estimating dispersions\n",
      "gene-wise dispersion estimates\n",
      "mean-dispersion relationship\n",
      "final dispersion estimates\n",
      "fitting model and testing\n",
      "-- replacing outliers and refitting for 20 genes\n",
      "-- DESeq argument 'minReplicatesForReplace' = 7 \n",
      "-- original counts are preserved in counts(dds)\n",
      "estimating dispersions\n",
      "fitting model and testing\n",
      "Warning message in DESeq(ddsHTSeq):\n",
      "“the design is ~ 1 (just an intercept). is this intended?”estimating size factors\n",
      "estimating dispersions\n",
      "gene-wise dispersion estimates\n",
      "mean-dispersion relationship\n",
      "final dispersion estimates\n",
      "fitting model and testing\n",
      "-- replacing outliers and refitting for 26 genes\n",
      "-- DESeq argument 'minReplicatesForReplace' = 7 \n",
      "-- original counts are preserved in counts(dds)\n",
      "estimating dispersions\n",
      "fitting model and testing\n"
     ]
    }
   ],
   "source": [
    "                                                    \n",
    "\n",
    "\n",
    "rna.read.counts.all <- count.reads(rna.design.info, 'RNA_seq')\n",
    "ribo.read.counts.all <- count.reads(ribo.design.info, 'Ribo_seq')\n",
    "\n",
    "rna.conditions.time.all <- as.factor(as.vector(sapply(colnames(rna.read.counts.all), function(x) unlist(strsplit(x, '_'))[3])))\n",
    "ribo.conditions.time.all <- as.factor(as.vector(sapply(colnames(ribo.read.counts.all), function(x) unlist(strsplit(x, '_'))[4])))\n",
    "\n",
    "rna.conditions.time.all.t0t1 <- rna.conditions.time.all\n",
    "ribo.conditions.time.all.t0t1 <- ribo.conditions.time.all\n",
    "\n",
    "levels(rna.conditions.time.all.t0t1)[levels(rna.conditions.time.all.t0t1)=='T0'] <- 'T0T1'\n",
    "levels(rna.conditions.time.all.t0t1)[levels(rna.conditions.time.all.t0t1)=='T1'] <- 'T0T1'\n",
    "\n",
    "levels(ribo.conditions.time.all.t0t1)[levels(ribo.conditions.time.all.t0t1)=='T0'] <- 'T0T1'\n",
    "levels(ribo.conditions.time.all.t0t1)[levels(ribo.conditions.time.all.t0t1)=='T1'] <- 'T0T1'\n",
    "\n",
    "rna.conditions.cell.all <- as.factor(as.vector(sapply(colnames(rna.read.counts.all), function(x) unlist(strsplit(x, '_'))[1])))\n",
    "ribo.conditions.cell.all <- as.factor(as.vector(sapply(colnames(ribo.read.counts.all), function(x) unlist(strsplit(x, '_'))[1])))\n",
    "\n",
    "rna.conditions.all <- data.frame('cell.type' = rna.conditions.cell.all, \n",
    "                                 'time' = rna.conditions.time.all)\n",
    "ribo.conditions.all <- data.frame('cell.type' = ribo.conditions.cell.all, \n",
    "                                  'time' = ribo.conditions.time.all)\n",
    "\n",
    "rna.conditions.all.t0t1 <- data.frame('cell.type' = rna.conditions.cell.all, \n",
    "                                      'time' = rna.conditions.time.all.t0t1)\n",
    "ribo.conditions.all.t0t1 <- data.frame('cell.type' = ribo.conditions.cell.all, \n",
    "                                       'time' = ribo.conditions.time.all.t0t1)\n",
    "\n",
    "common.genes <- intersect(rownames(rna.read.counts.all), rownames(ribo.read.counts.all)) \n",
    "\n",
    "rna.read.counts.all <- rna.read.counts.all[common.genes,]\n",
    "ribo.read.counts.all <- ribo.read.counts.all[common.genes,]\n",
    "\n",
    "colnames(rna.read.counts.all) <- paste(colnames(rna.read.counts.all), 'RNA', sep='_')\n",
    "colnames(ribo.read.counts.all) <- paste(colnames(ribo.read.counts.all), 'Ribo', sep='_')"
   ]
  },
  {
   "cell_type": "code",
   "execution_count": 2,
   "metadata": {},
   "outputs": [],
   "source": [
    "contrast.t1vst0 <- c('time', 'T1', 'T0')\n",
    "contrast.t24vst0 <- c('time', 'T24', 'T0')\n",
    "contrast.t24vst1 <- c('time', 'T24', 'T1')\n",
    "\n",
    "contrast.t24vst0t1 <- c('time', 'T24', 'T0T1')"
   ]
  },
  {
   "cell_type": "markdown",
   "metadata": {},
   "source": [
    "# All T1 vs T0"
   ]
  },
  {
   "cell_type": "code",
   "execution_count": 3,
   "metadata": {},
   "outputs": [
    {
     "name": "stderr",
     "output_type": "stream",
     "text": [
      "DESeq2 mode selected\n",
      "combining design matrix\n",
      "applying DESeq2 to modified design matrix\n",
      "estimating size factors\n",
      "estimating dispersions\n",
      "gene-wise dispersion estimates\n",
      "mean-dispersion relationship\n",
      "final dispersion estimates\n",
      "fitting model and testing\n",
      "Warning message in file(file, ifelse(append, \"a\", \"w\")):\n",
      "“cannot open file '../results/translation_efficiency/with_histones/All.Riborex.T1vsT0.all.tsv': No such file or directory”"
     ]
    },
    {
     "ename": "ERROR",
     "evalue": "Error in file(file, ifelse(append, \"a\", \"w\")): cannot open the connection\n",
     "output_type": "error",
     "traceback": [
      "Error in file(file, ifelse(append, \"a\", \"w\")): cannot open the connection\nTraceback:\n",
      "1. write_results(res.t1vst0, \"All.Riborex.T1vsT0\")",
      "2. write.table(df, file = file.path(results.dir, paste(prefix, \"all\", \n .     \"tsv\", sep = \".\")), sep = \"\\t\")   # at line 54-56 of file <text>",
      "3. file(file, ifelse(append, \"a\", \"w\"))"
     ]
    }
   ],
   "source": [
    "res.t1vst0 <- riborex(rna.read.counts.all, \n",
    "                      ribo.read.counts.all, \n",
    "                      rna.conditions.all, \n",
    "                      ribo.conditions.all, \n",
    "                      contrast = contrast.t1vst0)\n",
    "write_results(res.t1vst0, 'All.Riborex.T1vsT0')"
   ]
  },
  {
   "cell_type": "markdown",
   "metadata": {},
   "source": [
    "# All T24 vs T0"
   ]
  },
  {
   "cell_type": "code",
   "execution_count": null,
   "metadata": {},
   "outputs": [],
   "source": [
    "res.t24vst0 <- riborex(rna.read.counts.all, \n",
    "                       ribo.read.counts.all, \n",
    "                       rna.conditions.all, \n",
    "                       ribo.conditions.all, \n",
    "                       contrast = contrast.t24vst0)\n",
    "write_results(res.t24vst0, prefix='All.Riborex.T24vsT0')"
   ]
  },
  {
   "cell_type": "markdown",
   "metadata": {},
   "source": [
    "# All T24 vs T1 "
   ]
  },
  {
   "cell_type": "code",
   "execution_count": null,
   "metadata": {},
   "outputs": [],
   "source": [
    "res.t24vst1 <- riborex(rna.read.counts.all, \n",
    "                       ribo.read.counts.all, \n",
    "                       rna.conditions.all, \n",
    "                       ribo.conditions.all, \n",
    "                       contrast = contrast.t24vst1)\n",
    "write_results(res.t24vst0, prefix='All.Riborex.T24vsT1')"
   ]
  },
  {
   "cell_type": "markdown",
   "metadata": {},
   "source": [
    "# All T24 vs (T1+T0)"
   ]
  },
  {
   "cell_type": "code",
   "execution_count": null,
   "metadata": {},
   "outputs": [],
   "source": [
    "res.t24vst0t1 <- riborex(rna.read.counts.all, \n",
    "                         ribo.read.counts.all, \n",
    "                         rna.conditions.all.t0t1, \n",
    "                         ribo.conditions.all.t0t1, \n",
    "                         contrast = contrast.t24vst0t1)\n",
    "write_results(res.t24vst0t1, prefix='All.Riborex.T24vsT0T1')"
   ]
  }
 ],
 "metadata": {
  "kernelspec": {
   "display_name": "R (rna_seq)",
   "language": "R",
   "name": "ir"
  },
  "language_info": {
   "codemirror_mode": "r",
   "file_extension": ".r",
   "mimetype": "text/x-r-source",
   "name": "R",
   "pygments_lexer": "r",
   "version": "3.6.1"
  }
 },
 "nbformat": 4,
 "nbformat_minor": 4
}
